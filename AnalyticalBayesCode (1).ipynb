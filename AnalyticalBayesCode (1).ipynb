{
  "nbformat": 4,
  "nbformat_minor": 0,
  "metadata": {
    "colab": {
      "provenance": []
    },
    "kernelspec": {
      "name": "python3",
      "display_name": "Python 3"
    },
    "language_info": {
      "name": "python"
    }
  },
  "cells": [
    {
      "cell_type": "code",
      "execution_count": 111,
      "metadata": {
        "id": "FxeVKpMyNz_l"
      },
      "outputs": [],
      "source": [
        "import numpy as np\n",
        "import math\n",
        "import matplotlib.pyplot as plt\n",
        "import seaborn as sns\n",
        "from IPython.core.pylabtools import figsize\n",
        "sns.set_context(\"talk\", rc={\"font.size\": 17,\n",
        "                            \"axes.titlesize\": 17,\n",
        "                            \"axes.labelsize\": 14,\n",
        "                            \"legend.fontsize\": 15,\n",
        "                            \"xtick.labelsize\": 13,\n",
        "                            \"ytick.labelsize\": 11})"
      ]
    },
    {
      "cell_type": "code",
      "source": [
        "# Define functions S_i, n_i\n",
        "\n",
        "def S1(tau, x):\n",
        "  sum = 0\n",
        "  for i, number in enumerate(x):\n",
        "    if i < tau:\n",
        "      sum += number\n",
        "\n",
        "  return sum\n",
        "\n",
        "def S2(tau, x):\n",
        "  sum = 0\n",
        "  for i, number in enumerate(x):\n",
        "    if i >= tau:\n",
        "      sum += number\n",
        "\n",
        "  return sum\n",
        "\n",
        "def n1(tau,x):\n",
        "  return len(x[:tau])\n",
        "\n",
        "\n",
        "\n",
        "def n2(tau,x):\n",
        "  return len(x[tau:])"
      ],
      "metadata": {
        "id": "3nKrMrDBOA6j"
      },
      "execution_count": 72,
      "outputs": []
    },
    {
      "cell_type": "code",
      "source": [
        "# Step count data\n",
        "\n",
        "step_data1 = np.array([6847, 4083, 11058, 3725, 711, 1078, 2168, 10495, 7368, 2620, 540, 10465, 9404, 9733, 11113, 12435, 14505, 3247, 18083, 11394, 11561, 20272, 13350, 5050, 9001, 12478, 6311, 13072, 12348, 10643, 16705])\n",
        "x = np.round(step_data1/1000,0)"
      ],
      "metadata": {
        "id": "Ov8D8QwUS596"
      },
      "execution_count": 73,
      "outputs": []
    },
    {
      "cell_type": "code",
      "source": [
        "# Gamma prior distribution params\n",
        "\n",
        "alpha = 1.8\n",
        "beta = 0.2"
      ],
      "metadata": {
        "id": "KrPVx1qjTOz_"
      },
      "execution_count": 74,
      "outputs": []
    },
    {
      "cell_type": "code",
      "source": [
        "# Calculate the sum of the un-normalised PMF over all values of tau\n",
        "# Note, have to use log for numerical stability as Gamma involves factorials which blow up\n",
        "# Include reference to this log-exp trick later\n",
        "\n",
        "log_pi = [0]*31\n",
        "for tau in np.arange(30):\n",
        "   log_pi[tau] = (math.lgamma(S1(tau,x) + alpha) - (S1(tau,x) + alpha) * math.log(n1(tau,x) + beta) + math.lgamma(S2(tau,x) + alpha) - (S2(tau,x) + alpha) * math.log(n2(tau,x) + beta))\n"
      ],
      "metadata": {
        "id": "eEb8hxAVQ8ja"
      },
      "execution_count": 75,
      "outputs": []
    },
    {
      "cell_type": "code",
      "source": [
        "ml = max(log_pi)\n",
        "\n",
        "pi = [0]*31\n",
        "for i, val in enumerate(log_pi):\n",
        "  pi[i] = math.exp(val - ml)\n",
        "\n",
        "Z = np.sum(pi)\n",
        "for i, val in enumerate(pi):\n",
        "  pi[i] = val/Z\n"
      ],
      "metadata": {
        "id": "KSNnpnbNUTqz"
      },
      "execution_count": 78,
      "outputs": []
    },
    {
      "cell_type": "code",
      "source": [
        "# Posterior distribution of tau, include in appendix**\n",
        "\n",
        "\n",
        "figsize(6, 3)\n",
        "sns.barplot(pi,\n",
        "         label=r\"posterior of $\\tau$\")\n",
        "plt.xticks(np.arange(31,step=2))\n",
        "plt.legend(loc=\"upper left\", fontsize=8)\n",
        "plt.xlabel(r\"$\\tau$ (in days)\")"
      ],
      "metadata": {
        "colab": {
          "base_uri": "https://localhost:8080/",
          "height": 348
        },
        "id": "D3G97AlHW08L",
        "outputId": "16cbd599-721b-4cc4-ac47-6200112dd73e"
      },
      "execution_count": 112,
      "outputs": [
        {
          "output_type": "execute_result",
          "data": {
            "text/plain": [
              "Text(0.5, 0, '$\\\\tau$ (in days)')"
            ]
          },
          "metadata": {},
          "execution_count": 112
        },
        {
          "output_type": "display_data",
          "data": {
            "text/plain": [
              "<Figure size 600x300 with 1 Axes>"
            ],
            "image/png": "[encoded data removed]"
          },
          "metadata": {}
        }
      ]
    },
    {
      "cell_type": "code",
      "source": [
        "# Now for the expectation of lambda_1 and lambda_2\n",
        "\n",
        "expectation_l1 = 0\n",
        "for t, val in enumerate(pi):\n",
        "        shape = S1(t,x) + alpha\n",
        "        rate = n1(t,x) + beta\n",
        "        expectation_l1 += val * (shape / rate)\n"
      ],
      "metadata": {
        "id": "L7A18adkXKgH"
      },
      "execution_count": 89,
      "outputs": []
    },
    {
      "cell_type": "code",
      "source": [
        "expectation_l1"
      ],
      "metadata": {
        "colab": {
          "base_uri": "https://localhost:8080/"
        },
        "id": "tzLXsrPEXNBU",
        "outputId": "19136d40-e7dd-4c32-cf24-da729dbd4ae6"
      },
      "execution_count": 90,
      "outputs": [
        {
          "output_type": "execute_result",
          "data": {
            "text/plain": [
              "np.float64(4.820638465925882)"
            ]
          },
          "metadata": {},
          "execution_count": 90
        }
      ]
    },
    {
      "cell_type": "code",
      "source": [
        "expectation_l2 = 0\n",
        "for t, val in enumerate(pi):\n",
        "        shape = S2(t,x) + alpha\n",
        "        rate = n2(t,x) + beta\n",
        "        expectation_l2 += val * (shape / rate)"
      ],
      "metadata": {
        "id": "ioACg_nEfHyK"
      },
      "execution_count": 91,
      "outputs": []
    },
    {
      "cell_type": "code",
      "source": [
        "expectation_l2"
      ],
      "metadata": {
        "colab": {
          "base_uri": "https://localhost:8080/"
        },
        "id": "f6As-esvfW0R",
        "outputId": "28479648-873f-4077-f20f-f71a88ec5421"
      },
      "execution_count": 92,
      "outputs": [
        {
          "output_type": "execute_result",
          "data": {
            "text/plain": [
              "np.float64(11.447560633459215)"
            ]
          },
          "metadata": {},
          "execution_count": 92
        }
      ]
    }
  ]
}