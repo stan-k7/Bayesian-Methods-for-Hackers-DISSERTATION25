{
  "nbformat": 4,
  "nbformat_minor": 0,
  "metadata": {
    "colab": {
      "provenance": []
    },
    "kernelspec": {
      "name": "python3",
      "display_name": "Python 3"
    },
    "language_info": {
      "name": "python"
    }
  },
  "cells": [
    {
      "cell_type": "code",
      "execution_count": null,
      "metadata": {
        "id": "FxeVKpMyNz_l"
      },
      "outputs": [],
      "source": [
        "#packages and figure sizes\n",
        "\n",
        "import numpy as np\n",
        "import math\n",
        "import matplotlib.pyplot as plt\n",
        "import seaborn as sns\n",
        "from IPython.core.pylabtools import figsize\n",
        "sns.set_context(\"talk\", rc={\"font.size\": 17,\n",
        "                            \"axes.titlesize\": 17,\n",
        "                            \"axes.labelsize\": 14,\n",
        "                            \"legend.fontsize\": 15,\n",
        "                            \"xtick.labelsize\": 13,\n",
        "                            \"ytick.labelsize\": 11})"
      ]
    },
    {
      "cell_type": "code",
      "source": [
        "# Define functions S_i, n_i from Equation 3.5\n",
        "\n",
        "def S1(tau, x):\n",
        "  sum = 0\n",
        "  for i, number in enumerate(x):\n",
        "    if i < tau:\n",
        "      sum += number\n",
        "\n",
        "  return sum\n",
        "\n",
        "def S2(tau, x):\n",
        "  sum = 0\n",
        "  for i, number in enumerate(x):\n",
        "    if i >= tau:\n",
        "      sum += number\n",
        "\n",
        "  return sum\n",
        "\n",
        "def n1(tau,x):\n",
        "  return len(x[:tau])\n",
        "\n",
        "\n",
        "\n",
        "def n2(tau,x):\n",
        "  return len(x[tau:])"
      ],
      "metadata": {
        "id": "3nKrMrDBOA6j"
      },
      "execution_count": null,
      "outputs": []
    },
    {
      "cell_type": "code",
      "source": [
        "# Step count data\n",
        "step_data1 = np.array([6847, 4083, 8058, 2725, 5711, 4078, 3168, 8495, 7368, 2920, 3540, 11465, 9404, 9733, 11113, 12435, 14505, 8247, 18083, 12394, 11561, 20272, 13350, 8050, 9001, 15478, 9311, 13072, 12348, 10643, 16705])\n",
        "\n",
        "#transformation\n",
        "x = np.round(step_data1/1000,0)"
      ],
      "metadata": {
        "id": "Ov8D8QwUS596"
      },
      "execution_count": null,
      "outputs": []
    },
    {
      "cell_type": "code",
      "source": [
        "# Gamma prior distribution params\n",
        "\n",
        "alpha = 4\n",
        "beta = 1/2.5"
      ],
      "metadata": {
        "id": "KrPVx1qjTOz_"
      },
      "execution_count": null,
      "outputs": []
    },
    {
      "cell_type": "code",
      "source": [
        "# Calculate the sum of the un-normalised PMF over all values of tau\n",
        "# Note, have to use log for numerical stability as Gamma involves factorials which blow up\n",
        "# Include reference to this log-exp trick later\n",
        "\n",
        "log_pi = [0]*31\n",
        "for tau in np.arange(30):\n",
        "   log_pi[tau] = (math.lgamma(S1(tau,x) + alpha) - (S1(tau,x) + alpha) * math.log(n1(tau,x) + beta) + math.lgamma(S2(tau,x) + alpha) - (S2(tau,x) + alpha) * math.log(n2(tau,x) + beta))\n"
      ],
      "metadata": {
        "id": "eEb8hxAVQ8ja"
      },
      "execution_count": null,
      "outputs": []
    },
    {
      "cell_type": "code",
      "source": [
        "ml = max(log_pi)\n",
        "\n",
        "pi = [0]*31\n",
        "for i, val in enumerate(log_pi):\n",
        "  pi[i] = math.exp(val - ml)\n",
        "\n",
        "Z = np.sum(pi)\n",
        "for i, val in enumerate(pi):\n",
        "  pi[i] = val/Z\n"
      ],
      "metadata": {
        "id": "KSNnpnbNUTqz"
      },
      "execution_count": null,
      "outputs": []
    },
    {
      "cell_type": "code",
      "source": [
        "pi[11]"
      ],
      "metadata": {
        "id": "RQVNdRklvKY2",
        "outputId": "8a99dff3-21c6-46dd-f46b-9c95d905bc9d",
        "colab": {
          "base_uri": "https://localhost:8080/"
        }
      },
      "execution_count": null,
      "outputs": [
        {
          "output_type": "execute_result",
          "data": {
            "text/plain": [
              "np.float64(0.7483318974780171)"
            ]
          },
          "metadata": {},
          "execution_count": 19
        }
      ]
    },
    {
      "cell_type": "code",
      "source": [
        "# Posterior distribution of tau\n",
        "\n",
        "\n",
        "figsize(6, 3)\n",
        "sns.barplot(pi,\n",
        "         label=r\"posterior of $\\tau$\")\n",
        "plt.xticks(np.arange(31,step=2))\n",
        "plt.legend(loc=\"upper left\", fontsize=8)\n",
        "plt.xlabel(r\"$\\tau$ (in days)\")"
      ],
      "metadata": {
        "colab": {
          "base_uri": "https://localhost:8080/",
          "height": 348
        },
        "id": "D3G97AlHW08L",
        "outputId": "3c0e0a35-8c31-427f-95e7-95f0724a2c66"
      },
      "execution_count": null,
      "outputs": [
        {
          "output_type": "execute_result",
          "data": {
            "text/plain": [
              "Text(0.5, 0, '$\\\\tau$ (in days)')"
            ]
          },
          "metadata": {},
          "execution_count": 20
        },
        {
          "output_type": "display_data",
          "data": {
            "text/plain": [
              "<Figure size 600x300 with 1 Axes>"
            ],
            "image/png": "[encoded data removed]"
          },
          "metadata": {}
        }
      ]
    },
    {
      "cell_type": "code",
      "source": [
        "# Now for the expectation of lambda_1 and lambda_2\n",
        "\n",
        "expectation_l1 = 0\n",
        "for t, val in enumerate(pi):\n",
        "        shape = S1(t,x) + alpha\n",
        "        rate = n1(t,x) + beta\n",
        "        expectation_l1 += val * (shape / rate)\n"
      ],
      "metadata": {
        "id": "L7A18adkXKgH"
      },
      "execution_count": null,
      "outputs": []
    },
    {
      "cell_type": "code",
      "source": [
        "expectation_l1"
      ],
      "metadata": {
        "colab": {
          "base_uri": "https://localhost:8080/"
        },
        "id": "tzLXsrPEXNBU",
        "outputId": "f790c1c1-eb4a-482f-c2f9-5c9ec1b4a113"
      },
      "execution_count": null,
      "outputs": [
        {
          "output_type": "execute_result",
          "data": {
            "text/plain": [
              "np.float64(5.506206766021733)"
            ]
          },
          "metadata": {},
          "execution_count": 22
        }
      ]
    },
    {
      "cell_type": "code",
      "source": [
        "expectation_l2 = 0\n",
        "for t, val in enumerate(pi):\n",
        "        shape = S2(t,x) + alpha\n",
        "        rate = n2(t,x) + beta\n",
        "        expectation_l2 += val * (shape / rate)"
      ],
      "metadata": {
        "id": "ioACg_nEfHyK"
      },
      "execution_count": null,
      "outputs": []
    },
    {
      "cell_type": "code",
      "source": [
        "expectation_l2"
      ],
      "metadata": {
        "colab": {
          "base_uri": "https://localhost:8080/"
        },
        "id": "f6As-esvfW0R",
        "outputId": "b890f98f-c2f6-4f92-dc56-881c9e5744bd"
      },
      "execution_count": null,
      "outputs": [
        {
          "output_type": "execute_result",
          "data": {
            "text/plain": [
              "np.float64(12.240248716439593)"
            ]
          },
          "metadata": {},
          "execution_count": 24
        }
      ]
    }
  ]
}