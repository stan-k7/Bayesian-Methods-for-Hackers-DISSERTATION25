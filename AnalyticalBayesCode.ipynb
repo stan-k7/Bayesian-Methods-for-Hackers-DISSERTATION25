{
  "nbformat": 4,
  "nbformat_minor": 0,
  "metadata": {
    "colab": {
      "provenance": []
    },
    "kernelspec": {
      "name": "python3",
      "display_name": "Python 3"
    },
    "language_info": {
      "name": "python"
    }
  },
  "cells": [
    {
      "cell_type": "code",
      "execution_count": 35,
      "metadata": {
        "id": "FxeVKpMyNz_l"
      },
      "outputs": [],
      "source": [
        "import numpy as np\n",
        "import math"
      ]
    },
    {
      "cell_type": "code",
      "source": [
        "x = [4,1,2,3,4,5,7]"
      ],
      "metadata": {
        "id": "BPrjZpqLOlit"
      },
      "execution_count": 36,
      "outputs": []
    },
    {
      "cell_type": "code",
      "source": [
        "# Define functions S_i, n_i\n",
        "\n",
        "def S1(tau, x):\n",
        "  sum = 0\n",
        "  for i, number in enumerate(x):\n",
        "    if i < tau:\n",
        "      sum += number\n",
        "\n",
        "  return sum\n",
        "\n",
        "def S2(tau, x):\n",
        "  sum = 0\n",
        "  for i, number in enumerate(x):\n",
        "    if i >= tau:\n",
        "      sum += number\n",
        "\n",
        "  return sum\n",
        "\n",
        "def n1(tau,x):\n",
        "  return len(x[:tau])\n",
        "\n",
        "\n",
        "\n",
        "def n2(tau,x):\n",
        "  return len(x[tau:])"
      ],
      "metadata": {
        "id": "3nKrMrDBOA6j"
      },
      "execution_count": 37,
      "outputs": []
    },
    {
      "cell_type": "code",
      "source": [
        "np.arange(31)"
      ],
      "metadata": {
        "colab": {
          "base_uri": "https://localhost:8080/"
        },
        "id": "_ignFA7tSWhQ",
        "outputId": "b7ef3562-7cc9-4979-f14e-217bb98a1388"
      },
      "execution_count": 38,
      "outputs": [
        {
          "output_type": "execute_result",
          "data": {
            "text/plain": [
              "array([ 0,  1,  2,  3,  4,  5,  6,  7,  8,  9, 10, 11, 12, 13, 14, 15, 16,\n",
              "       17, 18, 19, 20, 21, 22, 23, 24, 25, 26, 27, 28, 29, 30])"
            ]
          },
          "metadata": {},
          "execution_count": 38
        }
      ]
    },
    {
      "cell_type": "code",
      "source": [
        "step_data1 = np.array([6847, 4083, 11058, 3725, 711, 1078, 2168, 10495, 7368, 2620, 540, 10465, 9404, 9733, 11113, 12435, 14505, 3247, 18083, 11394, 11561, 20272, 13350, 5050, 9001, 12478, 6311, 13072, 12348, 10643, 16705])\n",
        "x = np.round(step_data1/1000,0)"
      ],
      "metadata": {
        "id": "Ov8D8QwUS596"
      },
      "execution_count": 39,
      "outputs": []
    },
    {
      "cell_type": "code",
      "source": [
        "alpha = 81/25\n",
        "beta = 9/25"
      ],
      "metadata": {
        "id": "KrPVx1qjTOz_"
      },
      "execution_count": 40,
      "outputs": []
    },
    {
      "cell_type": "code",
      "source": [
        "# Calculate the sum of the un-normalised PMF over all values of tau\n",
        "\n",
        "log_pi = [0]*31\n",
        "for tau in np.arange(30):\n",
        "\n",
        "  log_pi[tau] = (\n",
        "        math.lgamma(S1(tau,x) + alpha)\n",
        "        - (S1(tau,x) + alpha) * math.log(n1(tau,x) + beta)\n",
        "        + math.lgamma(S2(tau,x) + alpha)\n",
        "        - (S2(tau,x) + alpha) * math.log(n2(tau,x) + beta)\n",
        "    )\n"
      ],
      "metadata": {
        "id": "eEb8hxAVQ8ja"
      },
      "execution_count": 47,
      "outputs": []
    },
    {
      "cell_type": "code",
      "source": [
        "max_log = max(log_pi)\n",
        "pi = [math.exp(lp - max_log) for lp in log_pi]\n",
        "Z = np.sum(pi)\n",
        "pi = [p / Z for p in pi]"
      ],
      "metadata": {
        "id": "KSNnpnbNUTqz"
      },
      "execution_count": 60,
      "outputs": []
    },
    {
      "cell_type": "code",
      "source": [
        "import matplotlib.pyplot as plt\n",
        "\n",
        "plt.bar(np.arange(31), height=pi)"
      ],
      "metadata": {
        "colab": {
          "base_uri": "https://localhost:8080/",
          "height": 448
        },
        "id": "D3G97AlHW08L",
        "outputId": "b2fec1cf-efd9-47d5-9fde-2e06923369f8"
      },
      "execution_count": 52,
      "outputs": [
        {
          "output_type": "execute_result",
          "data": {
            "text/plain": [
              "<BarContainer object of 31 artists>"
            ]
          },
          "metadata": {},
          "execution_count": 52
        },
        {
          "output_type": "display_data",
          "data": {
            "text/plain": [
              "<Figure size 640x480 with 1 Axes>"
            ],
            "image/png": "[encoded data removed]"
          },
          "metadata": {}
        }
      ]
    },
    {
      "cell_type": "code",
      "source": [
        "# Now for the marginal of lambda\n",
        "\n",
        "# need the Gamma density function\n",
        "\n",
        "expectation_l1 = 0\n",
        "for t, p in zip(np.arange(31), pi):\n",
        "        shape = S1(t,x) + alpha\n",
        "        rate = n1(t,x) + beta\n",
        "        expectation_l1 += p * (shape / rate)\n"
      ],
      "metadata": {
        "id": "L7A18adkXKgH"
      },
      "execution_count": 67,
      "outputs": []
    },
    {
      "cell_type": "code",
      "source": [
        "expectation_l1"
      ],
      "metadata": {
        "colab": {
          "base_uri": "https://localhost:8080/"
        },
        "id": "tzLXsrPEXNBU",
        "outputId": "1702bbb3-2ffb-468c-e7aa-347d5795e9bb"
      },
      "execution_count": 68,
      "outputs": [
        {
          "output_type": "execute_result",
          "data": {
            "text/plain": [
              "np.float64(4.885398275553094)"
            ]
          },
          "metadata": {},
          "execution_count": 68
        }
      ]
    },
    {
      "cell_type": "code",
      "source": [
        "expectation_l2 = 0\n",
        "for t, p in zip(np.arange(31), pi):\n",
        "        shape = S2(t,x) + alpha\n",
        "        rate = n2(t,x) + beta\n",
        "        expectation_l2 += p * (shape / rate)"
      ],
      "metadata": {
        "id": "ioACg_nEfHyK"
      },
      "execution_count": 63,
      "outputs": []
    },
    {
      "cell_type": "code",
      "source": [
        "expectation_l2"
      ],
      "metadata": {
        "colab": {
          "base_uri": "https://localhost:8080/"
        },
        "id": "f6As-esvfW0R",
        "outputId": "52edba20-0898-4da0-f1d7-8519927e05fb"
      },
      "execution_count": 69,
      "outputs": [
        {
          "output_type": "execute_result",
          "data": {
            "text/plain": [
              "np.float64(11.429683702300613)"
            ]
          },
          "metadata": {},
          "execution_count": 69
        }
      ]
    }
  ]
}