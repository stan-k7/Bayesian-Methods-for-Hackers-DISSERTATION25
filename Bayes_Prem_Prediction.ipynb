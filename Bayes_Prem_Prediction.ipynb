{
  "nbformat": 4,
  "nbformat_minor": 0,
  "metadata": {
    "colab": {
      "provenance": []
    },
    "kernelspec": {
      "name": "python3",
      "display_name": "Python 3"
    },
    "language_info": {
      "name": "python"
    }
  
  },
  "cells": [
    {
      "cell_type": "markdown",
      "source": [
        "# Maybe do manual code example (no pymc) for a 3 team league if possible"
      ],
      "metadata": {
        "id": "9LK_-uYU50xB"
      }
    },
    {
      "cell_type": "markdown",
      "source": [
        "# Process Fixture Data"
      ],
      "metadata": {
        "id": "JLzw9sxy21z6"
      }
    },
    {
      "cell_type": "code",
      "source": [
        "import pandas as pd\n",
        "import pymc as pm\n",
        "import pytensor.tensor as pt\n",
        "import numpy as np\n",
        "import seaborn as sns"
      ],
      "metadata": {
        "id": "PNLZvnRM18IS"
      },
      "execution_count": 121,
      "outputs": []
    },
    {
      "cell_type": "code",
      "source": [
        "## X_ij and Y_ij are the goals for home and away team respectively and independently\n",
        "\n",
        "## X_ij ~ Po(alpha_i x beta_j x gamma),  Y_ij ~ Po(alpha_j x beta_i)\n",
        "\n",
        "## i = home, j = away, alpha = strength of att, beta = weakness of def, gamma = home adv.\n",
        "\n",
        "## want to estimate the parameters, so will need priors and likelihoods. We have an att and def rating for each team\n",
        "## and then the home adv parameter (global) so for English prem that is 41 independent parameters to estimate\n",
        "\n",
        "## Likelihood will just be poisson pmf with parameter as above\n",
        "\n",
        "## What kinds of values will the parameters take? (Maher)\n",
        "\n",
        "## Only include teams initially in the prem. i.e. newly promoted teams from first season discarded\n",
        "\n",
        "## Maybe put more weight on recent results somehow?, i.e. when using data over several years more recent seasons\n",
        "## have a bigger impact when predicting the foloowing season\n",
        "\n",
        "## For Prior information Could Incorporate total wage bill / transfer window spending amount / manager points per game (ppm).\n",
        "## All this data is available, and would likely need to be included /updated after each season"
      ],
      "metadata": {
        "id": "GPnxlVHbUJHs"
      },
      "execution_count": null,
      "outputs": []
    },
    {
      "cell_type": "code",
      "execution_count": 122,
      "metadata": {
        "id": "3PxMC3511xJK"
      },
      "outputs": [],
      "source": [
        "# Read in score data\n",
        "\n",
        "data1 = pd.read_csv('2013-14.csv')\n",
        "data2 = pd.read_csv('2014-15.csv')\n",
        "data3 = pd.read_csv('2015-16.csv')\n",
        "data4 = pd.read_csv('2016-17.csv')"
      ]
    },
    {
      "cell_type": "code",
      "source": [
        "# select relevant columns and merge\n",
        "# note there are stats disregarded here that could be used as prior information going into the following season, i.e. if a team has been very unlucky the underlying stats\n",
        "# could show this\n",
        "\n",
        "df1 = data1[[\"HomeTeam\", \"AwayTeam\", \"FTHG\", \"FTAG\"]]\n",
        "df2 = data2[[\"HomeTeam\", \"AwayTeam\", \"FTHG\", \"FTAG\"]]\n",
        "df3 = data3[[\"HomeTeam\", \"AwayTeam\", \"FTHG\", \"FTAG\"]]\n",
        "df4 = data4[[\"HomeTeam\", \"AwayTeam\", \"FTHG\", \"FTAG\"]]\n",
        "\n",
        "df = pd.concat([df1, df2, df3, df4])"
      ],
      "metadata": {
        "id": "J0KdQv3d1-5D"
      },
      "execution_count": 123,
      "outputs": []
    },
    {
      "cell_type": "code",
      "source": [
        "# alphabetical list of team names\n",
        "\n",
        "team_names = sorted(data1['HomeTeam'].unique())"
      ],
      "metadata": {
        "id": "_POnqD-v2JmW"
      },
      "execution_count": 124,
      "outputs": []
    },
    {
      "cell_type": "code",
      "source": [
        "# only keep teams featuring in initial seasom\n",
        "\n",
        "df = df[(df['HomeTeam'].isin(team_names)) & (df['AwayTeam'].isin(team_names))]"
      ],
      "metadata": {
        "id": "AKmt4ptQNJkq"
      },
      "execution_count": 125,
      "outputs": []
    },
    {
      "cell_type": "code",
      "source": [
        "# convert to numerical values 0 = Arsenal etc.\n",
        "\n",
        "df.loc[:, 'home_id'] = pd.Categorical(df['HomeTeam'], categories=team_names).codes\n",
        "df.loc[:, 'away_id'] = pd.Categorical(df['AwayTeam'], categories=team_names).codes"
      ],
      "metadata": {
        "id": "UiEblbXg2WjG"
      },
      "execution_count": 126,
      "outputs": []
    },
    {
      "cell_type": "code",
      "source": [
        "df"
      ],
      "metadata": {
        "colab": {
          "base_uri": "https://localhost:8080/",
          "height": 423
        },
        "id": "5g7wn6QV2qRD",
        "outputId": "5205538a-d91b-4409-b95f-350947404c6e"
      },
      "execution_count": 127,
      "outputs": [
        {
          "output_type": "execute_result",
          "data": {
            "text/plain": [
              "        HomeTeam        AwayTeam  FTHG  FTAG  home_id  away_id\n",
              "0        Arsenal     Aston Villa     1     3        0        1\n",
              "1      Liverpool           Stoke     1     0        8       14\n",
              "2        Norwich         Everton     2     2       12        5\n",
              "3     Sunderland          Fulham     0     1       15        6\n",
              "4        Swansea      Man United     1     4       16       10\n",
              "..           ...             ...   ...   ...      ...      ...\n",
              "372      Chelsea      Sunderland     5     1        3       15\n",
              "373         Hull       Tottenham     1     7        7       17\n",
              "376   Man United  Crystal Palace     2     0       10        4\n",
              "377  Southampton           Stoke     0     1       13       14\n",
              "378      Swansea       West Brom     2     1       16       18\n",
              "\n",
              "[1134 rows x 6 columns]"
            ],
            "text/html": [
              "\n",
              "  <div id=\"df-f3bf646a-80e5-4d61-9e5b-76374268bb64\" class=\"colab-df-container\">\n",
              "    <div>\n",
              "<style scoped>\n",
              "    .dataframe tbody tr th:only-of-type {\n",
              "        vertical-align: middle;\n",
              "    }\n",
              "\n",
              "    .dataframe tbody tr th {\n",
              "        vertical-align: top;\n",
              "    }\n",
              "\n",
              "    .dataframe thead th {\n",
              "        text-align: right;\n",
              "    }\n",
              "</style>\n",
              "<table border=\"1\" class=\"dataframe\">\n",
              "  <thead>\n",
              "    <tr style=\"text-align: right;\">\n",
              "      <th></th>\n",
              "      <th>HomeTeam</th>\n",
              "      <th>AwayTeam</th>\n",
              "      <th>FTHG</th>\n",
              "      <th>FTAG</th>\n",
              "      <th>home_id</th>\n",
              "      <th>away_id</th>\n",
              "    </tr>\n",
              "  </thead>\n",
              "  <tbody>\n",
              "    <tr>\n",
              "      <th>0</th>\n",
              "      <td>Arsenal</td>\n",
              "      <td>Aston Villa</td>\n",
              "      <td>1</td>\n",
              "      <td>3</td>\n",
              "      <td>0</td>\n",
              "      <td>1</td>\n",
              "    </tr>\n",
              "    <tr>\n",
              "      <th>1</th>\n",
              "      <td>Liverpool</td>\n",
              "      <td>Stoke</td>\n",
              "      <td>1</td>\n",
              "      <td>0</td>\n",
              "      <td>8</td>\n",
              "      <td>14</td>\n",
              "    </tr>\n",
              "    <tr>\n",
              "      <th>2</th>\n",
              "      <td>Norwich</td>\n",
              "      <td>Everton</td>\n",
              "      <td>2</td>\n",
              "      <td>2</td>\n",
              "      <td>12</td>\n",
              "      <td>5</td>\n",
              "    </tr>\n",
              "    <tr>\n",
              "      <th>3</th>\n",
              "      <td>Sunderland</td>\n",
              "      <td>Fulham</td>\n",
              "      <td>0</td>\n",
              "      <td>1</td>\n",
              "      <td>15</td>\n",
              "      <td>6</td>\n",
              "    </tr>\n",
              "    <tr>\n",
              "      <th>4</th>\n",
              "      <td>Swansea</td>\n",
              "      <td>Man United</td>\n",
              "      <td>1</td>\n",
              "      <td>4</td>\n",
              "      <td>16</td>\n",
              "      <td>10</td>\n",
              "    </tr>\n",
              "    <tr>\n",
              "      <th>...</th>\n",
              "      <td>...</td>\n",
              "      <td>...</td>\n",
              "      <td>...</td>\n",
              "      <td>...</td>\n",
              "      <td>...</td>\n",
              "      <td>...</td>\n",
              "    </tr>\n",
              "    <tr>\n",
              "      <th>372</th>\n",
              "      <td>Chelsea</td>\n",
              "      <td>Sunderland</td>\n",
              "      <td>5</td>\n",
              "      <td>1</td>\n",
              "      <td>3</td>\n",
              "      <td>15</td>\n",
              "    </tr>\n",
              "    <tr>\n",
              "      <th>373</th>\n",
              "      <td>Hull</td>\n",
              "      <td>Tottenham</td>\n",
              "      <td>1</td>\n",
              "      <td>7</td>\n",
              "      <td>7</td>\n",
              "      <td>17</td>\n",
              "    </tr>\n",
              "    <tr>\n",
              "      <th>376</th>\n",
              "      <td>Man United</td>\n",
              "      <td>Crystal Palace</td>\n",
              "      <td>2</td>\n",
              "      <td>0</td>\n",
              "      <td>10</td>\n",
              "      <td>4</td>\n",
              "    </tr>\n",
              "    <tr>\n",
              "      <th>377</th>\n",
              "      <td>Southampton</td>\n",
              "      <td>Stoke</td>\n",
              "      <td>0</td>\n",
              "      <td>1</td>\n",
              "      <td>13</td>\n",
              "      <td>14</td>\n",
              "    </tr>\n",
              "    <tr>\n",
              "      <th>378</th>\n",
              "      <td>Swansea</td>\n",
              "      <td>West Brom</td>\n",
              "      <td>2</td>\n",
              "      <td>1</td>\n",
              "      <td>16</td>\n",
              "      <td>18</td>\n",
              "    </tr>\n",
              "  </tbody>\n",
              "</table>\n",
              "<p>1134 rows × 6 columns</p>\n",
              "</div>\n",
              "    <div class=\"colab-df-buttons\">\n",
              "\n",
              "  <div class=\"colab-df-container\">\n",
              "    <button class=\"colab-df-convert\" onclick=\"convertToInteractive('df-f3bf646a-80e5-4d61-9e5b-76374268bb64')\"\n",
              "            title=\"Convert this dataframe to an interactive table.\"\n",
              "            style=\"display:none;\">\n",
              "\n",
              "  <svg xmlns=\"http://www.w3.org/2000/svg\" height=\"24px\" viewBox=\"0 -960 960 960\">\n",
              "    <path d=\"M120-120v-720h720v720H120Zm60-500h600v-160H180v160Zm220 220h160v-160H400v160Zm0 220h160v-160H400v160ZM180-400h160v-160H180v160Zm440 0h160v-160H620v160ZM180-180h160v-160H180v160Zm440 0h160v-160H620v160Z\"/>\n",
              "  </svg>\n",
              "    </button>\n",
              "\n",
              "  <style>\n",
              "    .colab-df-container {\n",
              "      display:flex;\n",
              "      gap: 12px;\n",
              "    }\n",
              "\n",
              "    .colab-df-convert {\n",
              "      background-color: #E8F0FE;\n",
              "      border: none;\n",
              "      border-radius: 50%;\n",
              "      cursor: pointer;\n",
              "      display: none;\n",
              "      fill: #1967D2;\n",
              "      height: 32px;\n",
              "      padding: 0 0 0 0;\n",
              "      width: 32px;\n",
              "    }\n",
              "\n",
              "    .colab-df-convert:hover {\n",
              "      background-color: #E2EBFA;\n",
              "      box-shadow: 0px 1px 2px rgba(60, 64, 67, 0.3), 0px 1px 3px 1px rgba(60, 64, 67, 0.15);\n",
              "      fill: #174EA6;\n",
              "    }\n",
              "\n",
              "    .colab-df-buttons div {\n",
              "      margin-bottom: 4px;\n",
              "    }\n",
              "\n",
              "    [theme=dark] .colab-df-convert {\n",
              "      background-color: #3B4455;\n",
              "      fill: #D2E3FC;\n",
              "    }\n",
              "\n",
              "    [theme=dark] .colab-df-convert:hover {\n",
              "      background-color: #434B5C;\n",
              "      box-shadow: 0px 1px 3px 1px rgba(0, 0, 0, 0.15);\n",
              "      filter: drop-shadow(0px 1px 2px rgba(0, 0, 0, 0.3));\n",
              "      fill: #FFFFFF;\n",
              "    }\n",
              "  </style>\n",
              "\n",
              "    <script>\n",
              "      const buttonEl =\n",
              "        document.querySelector('#df-f3bf646a-80e5-4d61-9e5b-76374268bb64 button.colab-df-convert');\n",
              "      buttonEl.style.display =\n",
              "        google.colab.kernel.accessAllowed ? 'block' : 'none';\n",
              "\n",
              "      async function convertToInteractive(key) {\n",
              "        const element = document.querySelector('#df-f3bf646a-80e5-4d61-9e5b-76374268bb64');\n",
              "        const dataTable =\n",
              "          await google.colab.kernel.invokeFunction('convertToInteractive',\n",
              "                                                    [key], {});\n",
              "        if (!dataTable) return;\n",
              "\n",
              "        const docLinkHtml = 'Like what you see? Visit the ' +\n",
              "          '<a target=\"_blank\" href=https://colab.research.google.com/notebooks/data_table.ipynb>data table notebook</a>'\n",
              "          + ' to learn more about interactive tables.';\n",
              "        element.innerHTML = '';\n",
              "        dataTable['output_type'] = 'display_data';\n",
              "        await google.colab.output.renderOutput(dataTable, element);\n",
              "        const docLink = document.createElement('div');\n",
              "        docLink.innerHTML = docLinkHtml;\n",
              "        element.appendChild(docLink);\n",
              "      }\n",
              "    </script>\n",
              "  </div>\n",
              "\n",
              "\n",
              "    <div id=\"df-4379767f-2b44-4f82-9386-427be9ddde44\">\n",
              "      <button class=\"colab-df-quickchart\" onclick=\"quickchart('df-4379767f-2b44-4f82-9386-427be9ddde44')\"\n",
              "                title=\"Suggest charts\"\n",
              "                style=\"display:none;\">\n",
              "\n",
              "<svg xmlns=\"http://www.w3.org/2000/svg\" height=\"24px\"viewBox=\"0 0 24 24\"\n",
              "     width=\"24px\">\n",
              "    <g>\n",
              "        <path d=\"M19 3H5c-1.1 0-2 .9-2 2v14c0 1.1.9 2 2 2h14c1.1 0 2-.9 2-2V5c0-1.1-.9-2-2-2zM9 17H7v-7h2v7zm4 0h-2V7h2v10zm4 0h-2v-4h2v4z\"/>\n",
              "    </g>\n",
              "</svg>\n",
              "      </button>\n",
              "\n",
              "<style>\n",
              "  .colab-df-quickchart {\n",
              "      --bg-color: #E8F0FE;\n",
              "      --fill-color: #1967D2;\n",
              "      --hover-bg-color: #E2EBFA;\n",
              "      --hover-fill-color: #174EA6;\n",
              "      --disabled-fill-color: #AAA;\n",
              "      --disabled-bg-color: #DDD;\n",
              "  }\n",
              "\n",
              "  [theme=dark] .colab-df-quickchart {\n",
              "      --bg-color: #3B4455;\n",
              "      --fill-color: #D2E3FC;\n",
              "      --hover-bg-color: #434B5C;\n",
              "      --hover-fill-color: #FFFFFF;\n",
              "      --disabled-bg-color: #3B4455;\n",
              "      --disabled-fill-color: #666;\n",
              "  }\n",
              "\n",
              "  .colab-df-quickchart {\n",
              "    background-color: var(--bg-color);\n",
              "    border: none;\n",
              "    border-radius: 50%;\n",
              "    cursor: pointer;\n",
              "    display: none;\n",
              "    fill: var(--fill-color);\n",
              "    height: 32px;\n",
              "    padding: 0;\n",
              "    width: 32px;\n",
              "  }\n",
              "\n",
              "  .colab-df-quickchart:hover {\n",
              "    background-color: var(--hover-bg-color);\n",
              "    box-shadow: 0 1px 2px rgba(60, 64, 67, 0.3), 0 1px 3px 1px rgba(60, 64, 67, 0.15);\n",
              "    fill: var(--button-hover-fill-color);\n",
              "  }\n",
              "\n",
              "  .colab-df-quickchart-complete:disabled,\n",
              "  .colab-df-quickchart-complete:disabled:hover {\n",
              "    background-color: var(--disabled-bg-color);\n",
              "    fill: var(--disabled-fill-color);\n",
              "    box-shadow: none;\n",
              "  }\n",
              "\n",
              "  .colab-df-spinner {\n",
              "    border: 2px solid var(--fill-color);\n",
              "    border-color: transparent;\n",
              "    border-bottom-color: var(--fill-color);\n",
              "    animation:\n",
              "      spin 1s steps(1) infinite;\n",
              "  }\n",
              "\n",
              "  @keyframes spin {\n",
              "    0% {\n",
              "      border-color: transparent;\n",
              "      border-bottom-color: var(--fill-color);\n",
              "      border-left-color: var(--fill-color);\n",
              "    }\n",
              "    20% {\n",
              "      border-color: transparent;\n",
              "      border-left-color: var(--fill-color);\n",
              "      border-top-color: var(--fill-color);\n",
              "    }\n",
              "    30% {\n",
              "      border-color: transparent;\n",
              "      border-left-color: var(--fill-color);\n",
              "      border-top-color: var(--fill-color);\n",
              "      border-right-color: var(--fill-color);\n",
              "    }\n",
              "    40% {\n",
              "      border-color: transparent;\n",
              "      border-right-color: var(--fill-color);\n",
              "      border-top-color: var(--fill-color);\n",
              "    }\n",
              "    60% {\n",
              "      border-color: transparent;\n",
              "      border-right-color: var(--fill-color);\n",
              "    }\n",
              "    80% {\n",
              "      border-color: transparent;\n",
              "      border-right-color: var(--fill-color);\n",
              "      border-bottom-color: var(--fill-color);\n",
              "    }\n",
              "    90% {\n",
              "      border-color: transparent;\n",
              "      border-bottom-color: var(--fill-color);\n",
              "    }\n",
              "  }\n",
              "</style>\n",
              "\n",
              "      <script>\n",
              "        async function quickchart(key) {\n",
              "          const quickchartButtonEl =\n",
              "            document.querySelector('#' + key + ' button');\n",
              "          quickchartButtonEl.disabled = true;  // To prevent multiple clicks.\n",
              "          quickchartButtonEl.classList.add('colab-df-spinner');\n",
              "          try {\n",
              "            const charts = await google.colab.kernel.invokeFunction(\n",
              "                'suggestCharts', [key], {});\n",
              "          } catch (error) {\n",
              "            console.error('Error during call to suggestCharts:', error);\n",
              "          }\n",
              "          quickchartButtonEl.classList.remove('colab-df-spinner');\n",
              "          quickchartButtonEl.classList.add('colab-df-quickchart-complete');\n",
              "        }\n",
              "        (() => {\n",
              "          let quickchartButtonEl =\n",
              "            document.querySelector('#df-4379767f-2b44-4f82-9386-427be9ddde44 button');\n",
              "          quickchartButtonEl.style.display =\n",
              "            google.colab.kernel.accessAllowed ? 'block' : 'none';\n",
              "        })();\n",
              "      </script>\n",
              "    </div>\n",
              "\n",
              "  <div id=\"id_c5d0906a-e2b2-410e-ad08-89830f85f8fd\">\n",
              "    <style>\n",
              "      .colab-df-generate {\n",
              "        background-color: #E8F0FE;\n",
              "        border: none;\n",
              "        border-radius: 50%;\n",
              "        cursor: pointer;\n",
              "        display: none;\n",
              "        fill: #1967D2;\n",
              "        height: 32px;\n",
              "        padding: 0 0 0 0;\n",
              "        width: 32px;\n",
              "      }\n",
              "\n",
              "      .colab-df-generate:hover {\n",
              "        background-color: #E2EBFA;\n",
              "        box-shadow: 0px 1px 2px rgba(60, 64, 67, 0.3), 0px 1px 3px 1px rgba(60, 64, 67, 0.15);\n",
              "        fill: #174EA6;\n",
              "      }\n",
              "\n",
              "      [theme=dark] .colab-df-generate {\n",
              "        background-color: #3B4455;\n",
              "        fill: #D2E3FC;\n",
              "      }\n",
              "\n",
              "      [theme=dark] .colab-df-generate:hover {\n",
              "        background-color: #434B5C;\n",
              "        box-shadow: 0px 1px 3px 1px rgba(0, 0, 0, 0.15);\n",
              "        filter: drop-shadow(0px 1px 2px rgba(0, 0, 0, 0.3));\n",
              "        fill: #FFFFFF;\n",
              "      }\n",
              "    </style>\n",
              "    <button class=\"colab-df-generate\" onclick=\"generateWithVariable('df')\"\n",
              "            title=\"Generate code using this dataframe.\"\n",
              "            style=\"display:none;\">\n",
              "\n",
              "  <svg xmlns=\"http://www.w3.org/2000/svg\" height=\"24px\"viewBox=\"0 0 24 24\"\n",
              "       width=\"24px\">\n",
              "    <path d=\"M7,19H8.4L18.45,9,17,7.55,7,17.6ZM5,21V16.75L18.45,3.32a2,2,0,0,1,2.83,0l1.4,1.43a1.91,1.91,0,0,1,.58,1.4,1.91,1.91,0,0,1-.58,1.4L9.25,21ZM18.45,9,17,7.55Zm-12,3A5.31,5.31,0,0,0,4.9,8.1,5.31,5.31,0,0,0,1,6.5,5.31,5.31,0,0,0,4.9,4.9,5.31,5.31,0,0,0,6.5,1,5.31,5.31,0,0,0,8.1,4.9,5.31,5.31,0,0,0,12,6.5,5.46,5.46,0,0,0,6.5,12Z\"/>\n",
              "  </svg>\n",
              "    </button>\n",
              "    <script>\n",
              "      (() => {\n",
              "      const buttonEl =\n",
              "        document.querySelector('#id_c5d0906a-e2b2-410e-ad08-89830f85f8fd button.colab-df-generate');\n",
              "      buttonEl.style.display =\n",
              "        google.colab.kernel.accessAllowed ? 'block' : 'none';\n",
              "\n",
              "      buttonEl.onclick = () => {\n",
              "        google.colab.notebook.generateWithVariable('df');\n",
              "      }\n",
              "      })();\n",
              "    </script>\n",
              "  </div>\n",
              "\n",
              "    </div>\n",
              "  </div>\n"
            ],
            "application/vnd.google.colaboratory.intrinsic+json": {
              "type": "dataframe",
              "variable_name": "df",
              "summary": "{\n  \"name\": \"df\",\n  \"rows\": 1134,\n  \"fields\": [\n    {\n      \"column\": \"HomeTeam\",\n      \"properties\": {\n        \"dtype\": \"category\",\n        \"num_unique_values\": 20,\n        \"samples\": [\n          \"Arsenal\",\n          \"Cardiff\",\n          \"Southampton\"\n        ],\n        \"semantic_type\": \"\",\n        \"description\": \"\"\n      }\n    },\n    {\n      \"column\": \"AwayTeam\",\n      \"properties\": {\n        \"dtype\": \"category\",\n        \"num_unique_values\": 20,\n        \"samples\": [\n          \"Aston Villa\",\n          \"Man City\",\n          \"Sunderland\"\n        ],\n        \"semantic_type\": \"\",\n        \"description\": \"\"\n      }\n    },\n    {\n      \"column\": \"FTHG\",\n      \"properties\": {\n        \"dtype\": \"number\",\n        \"std\": 1,\n        \"min\": 0,\n        \"max\": 8,\n        \"num_unique_values\": 9,\n        \"samples\": [\n          5,\n          2,\n          7\n        ],\n        \"semantic_type\": \"\",\n        \"description\": \"\"\n      }\n    },\n    {\n      \"column\": \"FTAG\",\n      \"properties\": {\n        \"dtype\": \"number\",\n        \"std\": 1,\n        \"min\": 0,\n        \"max\": 7,\n        \"num_unique_values\": 8,\n        \"samples\": [\n          0,\n          5,\n          3\n        ],\n        \"semantic_type\": \"\",\n        \"description\": \"\"\n      }\n    },\n    {\n      \"column\": \"home_id\",\n      \"properties\": {\n        \"dtype\": \"int8\",\n        \"num_unique_values\": 20,\n        \"samples\": [\n          0,\n          2,\n          13\n        ],\n        \"semantic_type\": \"\",\n        \"description\": \"\"\n      }\n    },\n    {\n      \"column\": \"away_id\",\n      \"properties\": {\n        \"dtype\": \"int8\",\n        \"num_unique_values\": 20,\n        \"samples\": [\n          1,\n          9,\n          15\n        ],\n        \"semantic_type\": \"\",\n        \"description\": \"\"\n      }\n    }\n  ]\n}"
            }
          },
          "metadata": {},
          "execution_count": 127
        }
      ]
    },
    {
      "cell_type": "markdown",
      "source": [
        "# pyMC Model NB: without home advantage param"
      ],
      "metadata": {
        "id": "9nOSZ0igT9YR"
      }
    },
    {
      "cell_type": "code",
      "source": [
        "# For now, priors will be based on Maher MLE estimates but allow for alot of uncertainty,\n",
        "# used parameter constraints so that sum(alphas) = sum(betas) (Maher)\n",
        "\n",
        "with pm.Model() as model:\n",
        "  alphas_raw = pm.Gamma(\"alphas_raw\", alpha=3, beta=1/0.6, shape=20)\n",
        "  alphas = pm.Deterministic(\"alphas\", alphas_raw / pt.mean(alphas_raw))\n",
        "\n",
        "  betas_raw = pm.Gamma(\"betas_raw\", alpha=2.5, beta=1/0.5, shape=20)\n",
        "  betas = pm.Deterministic(\"betas\", betas_raw / pt.mean(betas_raw))"
      ],
      "metadata": {
        "id": "jiJq4jEm3gAS"
      },
      "execution_count": 128,
      "outputs": []
    },
    {
      "cell_type": "code",
      "source": [
        "# define Po rates for home and away (no gamma as of yet)\n",
        "\n",
        "with model:\n",
        "    lambda_h = alphas[df[\"home_id\"]] * betas[df[\"away_id\"]]\n",
        "    lambda_a = alphas[df[\"away_id\"]] * betas[df[\"home_id\"]]"
      ],
      "metadata": {
        "id": "5wfs3nh18e3G"
      },
      "execution_count": 129,
      "outputs": []
    },
    {
      "cell_type": "code",
      "source": [
        "# likelihood of the goals data\n",
        "\n",
        "with model:\n",
        "    home_obs = pm.Poisson(\"hobs\", lambda_h, observed=df[\"FTHG\"])\n",
        "    away_obs = pm.Poisson(\"aobs\", lambda_a, observed=df[\"FTAG\"])"
      ],
      "metadata": {
        "id": "cDtnhby16X8c"
      },
      "execution_count": 130,
      "outputs": []
    },
    {
      "cell_type": "code",
      "source": [
        "# for now, just use same sampling as first diss example\n",
        "\n",
        "with model:\n",
        "    step = pm.Metropolis()\n",
        "    trace = pm.sample(10000, tune=5000, step=step, return_inferencedata=False)"
      ],
      "metadata": {
        "colab": {
          "base_uri": "https://localhost:8080/",
          "height": 150,
          "referenced_widgets": [
            "b4b2eec248b447b49245c476da3088c8",
            "909ed80efa3e4bbcbd0aa11656d1fece"
          ]
        },
        "id": "3rX0gI5b9Gb0",
        "outputId": "aabc21ee-c69f-493c-bfed-a6abc05471ec"
      },
      "execution_count": 131,
      "outputs": [
        {
          "output_type": "display_data",
          "data": {
            "text/plain": [
              "Output()"
            ],
            "application/vnd.jupyter.widget-view+json": {
              "version_major": 2,
              "version_minor": 0,
              "model_id": "b4b2eec248b447b49245c476da3088c8"
            }
          },
          "metadata": {}
        },
        {
          "output_type": "display_data",
          "data": {
            "text/plain": [],
            "text/html": [
              "<pre style=\"white-space:pre;overflow-x:auto;line-height:normal;font-family:Menlo,'DejaVu Sans Mono',consolas,'Courier New',monospace\"></pre>\n"
            ]
          },
          "metadata": {}
        },
        {
          "output_type": "stream",
          "name": "stderr",
          "text": [
            "ERROR:pymc.stats.convergence:The effective sample size per chain is smaller than 100 for some parameters.  A higher number is needed for reliable rhat and ess computation. See https://arxiv.org/abs/1903.08008 for details\n"
          ]
        }
      ]
    },
    {
      "cell_type": "code",
      "source": [
        "alpha_samples = trace['alphas']\n",
        "beta_samples = trace['betas']"
      ],
      "metadata": {
        "id": "kKmuBrVN-EyY"
      },
      "execution_count": 144,
      "outputs": []
    },
    {
      "cell_type": "code",
      "source": [
        "team_names"
      ],
      "metadata": {
        "colab": {
          "base_uri": "https://localhost:8080/"
        },
        "id": "7eKFqBsC-4R1",
        "outputId": "692c1e16-9b34-4f01-eeb2-d9f213e8269d"
      },
      "execution_count": 133,
      "outputs": [
        {
          "output_type": "execute_result",
          "data": {
            "text/plain": [
              "['Arsenal',\n",
              " 'Aston Villa',\n",
              " 'Cardiff',\n",
              " 'Chelsea',\n",
              " 'Crystal Palace',\n",
              " 'Everton',\n",
              " 'Fulham',\n",
              " 'Hull',\n",
              " 'Liverpool',\n",
              " 'Man City',\n",
              " 'Man United',\n",
              " 'Newcastle',\n",
              " 'Norwich',\n",
              " 'Southampton',\n",
              " 'Stoke',\n",
              " 'Sunderland',\n",
              " 'Swansea',\n",
              " 'Tottenham',\n",
              " 'West Brom',\n",
              " 'West Ham']"
            ]
          },
          "metadata": {},
          "execution_count": 133
        }
      ]
    },
    {
      "cell_type": "code",
      "source": [
        "# can get samples for each team (table positions from 1st season)\n",
        "\n",
        "# 4th place Arsenal\n",
        "arsenal_attack_samples = [teams[0] for teams in alpha_samples]\n",
        "arsenal_defence_samples = [teams[0] for teams in beta_samples]\n",
        "\n",
        "# 16th place Hull\n",
        "hull_attack_samples = [teams[7] for teams in alpha_samples]\n",
        "hull_defence_samples = [teams[7] for teams in beta_samples]\n",
        "\n",
        "# 1st place ManC\n",
        "mancity_attack_samples = [teams[9] for teams in alpha_samples]\n",
        "mancity_defence_samples = [teams[9] for teams in beta_samples]\n",
        "\n",
        "# 20th place Cardiff\n",
        "cardiff_attack_samples = [teams[2] for teams in alpha_samples]\n",
        "cardiff_defence_samples = [teams[2] for teams in beta_samples]\n",
        "\n"
      ],
      "metadata": {
        "id": "LHwRO-ly-p1e"
      },
      "execution_count": 134,
      "outputs": []
    },
    {
      "cell_type": "code",
      "source": [
        "sns.histplot(arsenal_attack_samples)\n",
        "print(np.mean(arsenal_attack_samples))\n",
        "sns.histplot(arsenal_defence_samples)\n",
        "print(np.mean(arsenal_defence_samples))"
      ],
      "metadata": {
        "colab": {
          "base_uri": "https://localhost:8080/",
          "height": 465
        },
        "id": "Wapg4wt1-tMw",
        "outputId": "b1ad2ba6-2c0b-421b-ed55-db29489f24d2"
      },
      "execution_count": 135,
      "outputs": [
        {
          "output_type": "stream",
          "name": "stdout",
          "text": [
            "1.4285795430970119\n",
            "0.8279260939989573\n"
          ]
        },
        {
          "output_type": "display_data",
          "data": {
            "text/plain": [
              "<Figure size 640x480 with 1 Axes>"
            ],
            "image/png": "[encoded data removed]"
          },
          "metadata": {}
        }
      ]
    },
    {
      "cell_type": "code",
      "source": [
        "sns.histplot(hull_attack_samples)\n",
        "print(np.mean(hull_attack_samples))\n",
        "sns.histplot(hull_defence_samples)\n",
        "print(np.mean(hull_defence_samples))"
      ],
      "metadata": {
        "colab": {
          "base_uri": "https://localhost:8080/",
          "height": 465
        },
        "id": "PTVbUHYr_Z1B",
        "outputId": "f14b39a7-cb1f-4e59-c761-560cd707721a"
      },
      "execution_count": 136,
      "outputs": [
        {
          "output_type": "stream",
          "name": "stdout",
          "text": [
            "0.698951232622592\n",
            "1.150842989931574\n"
          ]
        },
        {
          "output_type": "display_data",
          "data": {
            "text/plain": [
              "<Figure size 640x480 with 1 Axes>"
            ],
            "image/png": "[encoded data removed]"
          },
          "metadata": {}
        }
      ]
    },
    {
      "cell_type": "code",
      "source": [
        "# Predict points tally for Team over the season\n",
        "\n",
        "# Loop through each team that isn't Team and simulate 1 game between them and Team (Team at home), if Home>Away + 3 points, else, +0\n",
        "# Times this point tally by 2, since home and away the same in this initial model\n",
        "\n",
        "# function to predict points of 1 season based on a simulation of 5 games against each team\n",
        "\n",
        "def predict_points(team_name):\n",
        "  team_index = team_names.index(team_name)\n",
        "  points = 0\n",
        "  idxs = np.arange(20)\n",
        "  idxs = np.delete(idxs, team_index)\n",
        "  hometeam_attack_samples = [teams[team_index] for teams in alpha_samples]\n",
        "  hometeam_defence_samples = [teams[team_index] for teams in beta_samples]\n",
        "  for team in idxs:\n",
        "      awayteam_attack_samples = [teams[team] for teams in alpha_samples]\n",
        "      awayteam_defence_samples = [teams[team] for teams in beta_samples]\n",
        "      x = 0\n",
        "      y = 0\n",
        "      for i in range(5):\n",
        "         x += np.random.poisson(np.mean(hometeam_attack_samples)*np.mean(awayteam_defence_samples))\n",
        "         y += np.random.poisson(np.mean(awayteam_attack_samples)*np.mean(hometeam_defence_samples))\n",
        "      if x > y:\n",
        "        points += 3\n",
        "      else:\n",
        "        points += 0\n",
        "\n",
        "  return(2*points)\n",
        "\n",
        "\n",
        "\n",
        "# function to do N simulations of the season and calculate an average for a team\n",
        "\n",
        "def calc_avg_points(N, team):\n",
        "  prediction = [0] * N\n",
        "  for i in range(N):\n",
        "    prediction[i] = predict_points(team)\n",
        "  return(np.mean(prediction))"
      ],
      "metadata": {
        "id": "WmlryBojBYfm"
      },
      "execution_count": 153,
      "outputs": []
    },
    {
      "cell_type": "code",
      "source": [
        "# Predict number of points for season 17-18, can compare to actual tally when model is more advanced\n",
        "\n",
        "for team in ['Chelsea', 'Man City', 'Arsenal', 'Man United', 'Tottenham']:\n",
        "  print(calc_avg_points(5, team))"
      ],
      "metadata": {
        "colab": {
          "base_uri": "https://localhost:8080/"
        },
        "id": "VXCFdMBmJIM4",
        "outputId": "cd1f8e10-3447-4049-b0af-b8443e8b1702"
      },
      "execution_count": 159,
      "outputs": [
        {
          "output_type": "stream",
          "name": "stdout",
          "text": [
            "94.8\n",
            "93.6\n",
            "85.2\n",
            "74.4\n",
            "72.0\n"
          ]
        }
      ]
    }
  ]
}